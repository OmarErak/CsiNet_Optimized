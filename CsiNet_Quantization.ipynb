{
 "cells": [
  {
   "cell_type": "code",
   "execution_count": 7,
   "metadata": {},
   "outputs": [],
   "source": [
    "import numpy as np\n",
    "import tensorflow as tf\n",
    "from tensorflow import keras\n",
    "from tensorflow.keras.models import model_from_json\n",
    "import tensorflow_model_optimization as tfmot\n",
    "import os\n",
    "import tempfile"
   ]
  },
  {
   "cell_type": "code",
   "execution_count": 8,
   "metadata": {},
   "outputs": [
    {
     "name": "stdout",
     "output_type": "stream",
     "text": [
      "Loaded base model from disk\n",
      "Model: \"model_1\"\n",
      "__________________________________________________________________________________________________\n",
      " Layer (type)                   Output Shape         Param #     Connected to                     \n",
      "==================================================================================================\n",
      " input_1 (InputLayer)           [(None, 2, 32, 32)]  0           []                               \n",
      "                                                                                                  \n",
      " conv2d_1 (Conv2D)              (None, 2, 32, 32)    38          ['input_1[0][0]']                \n",
      "                                                                                                  \n",
      " batch_normalization_1 (BatchNo  (None, 2, 32, 32)   128         ['conv2d_1[0][0]']               \n",
      " rmalization)                                                                                     \n",
      "                                                                                                  \n",
      " leaky_re_lu_1 (LeakyReLU)      (None, 2, 32, 32)    0           ['batch_normalization_1[0][0]']  \n",
      "                                                                                                  \n",
      " reshape_1 (Reshape)            (None, 2048)         0           ['leaky_re_lu_1[0][0]']          \n",
      "                                                                                                  \n",
      " dense_1 (Dense)                (None, 64)           131136      ['reshape_1[0][0]']              \n",
      "                                                                                                  \n",
      " dense_2 (Dense)                (None, 2048)         133120      ['dense_1[0][0]']                \n",
      "                                                                                                  \n",
      " reshape_2 (Reshape)            (None, 2, 32, 32)    0           ['dense_2[0][0]']                \n",
      "                                                                                                  \n",
      " conv2d_2 (Conv2D)              (None, 8, 32, 32)    152         ['reshape_2[0][0]']              \n",
      "                                                                                                  \n",
      " batch_normalization_2 (BatchNo  (None, 8, 32, 32)   128         ['conv2d_2[0][0]']               \n",
      " rmalization)                                                                                     \n",
      "                                                                                                  \n",
      " leaky_re_lu_2 (LeakyReLU)      (None, 8, 32, 32)    0           ['batch_normalization_2[0][0]']  \n",
      "                                                                                                  \n",
      " conv2d_3 (Conv2D)              (None, 16, 32, 32)   1168        ['leaky_re_lu_2[0][0]']          \n",
      "                                                                                                  \n",
      " batch_normalization_3 (BatchNo  (None, 16, 32, 32)  128         ['conv2d_3[0][0]']               \n",
      " rmalization)                                                                                     \n",
      "                                                                                                  \n",
      " leaky_re_lu_3 (LeakyReLU)      (None, 16, 32, 32)   0           ['batch_normalization_3[0][0]']  \n",
      "                                                                                                  \n",
      " conv2d_4 (Conv2D)              (None, 2, 32, 32)    290         ['leaky_re_lu_3[0][0]']          \n",
      "                                                                                                  \n",
      " batch_normalization_4 (BatchNo  (None, 2, 32, 32)   128         ['conv2d_4[0][0]']               \n",
      " rmalization)                                                                                     \n",
      "                                                                                                  \n",
      " add_1 (Add)                    (None, 2, 32, 32)    0           ['reshape_2[0][0]',              \n",
      "                                                                  'batch_normalization_4[0][0]']  \n",
      "                                                                                                  \n",
      " leaky_re_lu_4 (LeakyReLU)      (None, 2, 32, 32)    0           ['add_1[0][0]']                  \n",
      "                                                                                                  \n",
      " conv2d_5 (Conv2D)              (None, 8, 32, 32)    152         ['leaky_re_lu_4[0][0]']          \n",
      "                                                                                                  \n",
      " batch_normalization_5 (BatchNo  (None, 8, 32, 32)   128         ['conv2d_5[0][0]']               \n",
      " rmalization)                                                                                     \n",
      "                                                                                                  \n",
      " leaky_re_lu_5 (LeakyReLU)      (None, 8, 32, 32)    0           ['batch_normalization_5[0][0]']  \n",
      "                                                                                                  \n",
      " conv2d_6 (Conv2D)              (None, 16, 32, 32)   1168        ['leaky_re_lu_5[0][0]']          \n",
      "                                                                                                  \n",
      " batch_normalization_6 (BatchNo  (None, 16, 32, 32)  128         ['conv2d_6[0][0]']               \n",
      " rmalization)                                                                                     \n",
      "                                                                                                  \n",
      " leaky_re_lu_6 (LeakyReLU)      (None, 16, 32, 32)   0           ['batch_normalization_6[0][0]']  \n",
      "                                                                                                  \n",
      " conv2d_7 (Conv2D)              (None, 2, 32, 32)    290         ['leaky_re_lu_6[0][0]']          \n",
      "                                                                                                  \n",
      " batch_normalization_7 (BatchNo  (None, 2, 32, 32)   128         ['conv2d_7[0][0]']               \n",
      " rmalization)                                                                                     \n",
      "                                                                                                  \n",
      " add_2 (Add)                    (None, 2, 32, 32)    0           ['leaky_re_lu_4[0][0]',          \n",
      "                                                                  'batch_normalization_7[0][0]']  \n",
      "                                                                                                  \n",
      " leaky_re_lu_7 (LeakyReLU)      (None, 2, 32, 32)    0           ['add_2[0][0]']                  \n",
      "                                                                                                  \n",
      " conv2d_8 (Conv2D)              (None, 2, 32, 32)    38          ['leaky_re_lu_7[0][0]']          \n",
      "                                                                                                  \n",
      "==================================================================================================\n",
      "Total params: 268,448\n",
      "Trainable params: 268,000\n",
      "Non-trainable params: 448\n",
      "__________________________________________________________________________________________________\n"
     ]
    }
   ],
   "source": [
    "json_file = open('saved_model/model_CsiNet_indoor_dim64.json', 'r')\n",
    "base_model_json = json_file.read()\n",
    "json_file.close()\n",
    "base_model = model_from_json(base_model_json)\n",
    "# load weights into new model\n",
    "base_model.load_weights(\"saved_model/model_CsiNet_indoor_dim64.h5\")\n",
    "print(\"Loaded base model from disk\")\n",
    "base_model.summary()"
   ]
  },
  {
   "cell_type": "code",
   "execution_count": 9,
   "metadata": {},
   "outputs": [
    {
     "name": "stderr",
     "output_type": "stream",
     "text": [
      "WARNING:absl:Found untraced functions such as _jit_compiled_convolution_op, _jit_compiled_convolution_op, _jit_compiled_convolution_op, _jit_compiled_convolution_op, _jit_compiled_convolution_op while saving (showing 5 of 8). These functions will not be directly callable after loading.\n"
     ]
    },
    {
     "name": "stdout",
     "output_type": "stream",
     "text": [
      "INFO:tensorflow:Assets written to: C:\\Users\\Omar\\AppData\\Local\\Temp\\tmp55ihgdrh\\assets\n"
     ]
    },
    {
     "name": "stderr",
     "output_type": "stream",
     "text": [
      "INFO:tensorflow:Assets written to: C:\\Users\\Omar\\AppData\\Local\\Temp\\tmp55ihgdrh\\assets\n"
     ]
    }
   ],
   "source": [
    "# Convert the base model to a tflite model\n",
    "converter = tf.lite.TFLiteConverter.from_keras_model(base_model)\n",
    "tflite_base_model = converter.convert()\n"
   ]
  },
  {
   "cell_type": "code",
   "execution_count": 10,
   "metadata": {},
   "outputs": [
    {
     "name": "stderr",
     "output_type": "stream",
     "text": [
      "WARNING:absl:Found untraced functions such as _jit_compiled_convolution_op, _jit_compiled_convolution_op, _jit_compiled_convolution_op, _jit_compiled_convolution_op, _jit_compiled_convolution_op while saving (showing 5 of 8). These functions will not be directly callable after loading.\n"
     ]
    },
    {
     "name": "stdout",
     "output_type": "stream",
     "text": [
      "INFO:tensorflow:Assets written to: C:\\Users\\Omar\\AppData\\Local\\Temp\\tmpka1l7dk0\\assets\n"
     ]
    },
    {
     "name": "stderr",
     "output_type": "stream",
     "text": [
      "INFO:tensorflow:Assets written to: C:\\Users\\Omar\\AppData\\Local\\Temp\\tmpka1l7dk0\\assets\n"
     ]
    }
   ],
   "source": [
    "# Convert base model to a tflite model and apply dynamic range quantization which quantizes the weights ONLY\n",
    "# In Dynamic Range Quantization, weights are converted to 8-bit precision values\n",
    "converter = tf.lite.TFLiteConverter.from_keras_model(base_model)\n",
    "converter.optimizations = [tf.lite.Optimize.DEFAULT]\n",
    "\n",
    "tflite_base_model_dynamic_range_quant = converter.convert()"
   ]
  },
  {
   "cell_type": "code",
   "execution_count": 11,
   "metadata": {},
   "outputs": [
    {
     "name": "stderr",
     "output_type": "stream",
     "text": [
      "WARNING:absl:Found untraced functions such as _jit_compiled_convolution_op, _jit_compiled_convolution_op, _jit_compiled_convolution_op, _jit_compiled_convolution_op, _jit_compiled_convolution_op while saving (showing 5 of 8). These functions will not be directly callable after loading.\n"
     ]
    },
    {
     "name": "stdout",
     "output_type": "stream",
     "text": [
      "INFO:tensorflow:Assets written to: C:\\Users\\Omar\\AppData\\Local\\Temp\\tmp580b7m0e\\assets\n"
     ]
    },
    {
     "name": "stderr",
     "output_type": "stream",
     "text": [
      "INFO:tensorflow:Assets written to: C:\\Users\\Omar\\AppData\\Local\\Temp\\tmp580b7m0e\\assets\n"
     ]
    }
   ],
   "source": [
    "# Passing the Keras model to the TF Lite Converter.\n",
    "converter = tf.lite.TFLiteConverter.from_keras_model(base_model)\n",
    "# Using float-16 quantization.\n",
    "converter.optimizations = [tf.lite.Optimize.DEFAULT]\n",
    "converter.target_spec.supported_types = [tf.float16]\n",
    "# Converting the model.\n",
    "tflite_fp16_model = converter.convert()\n"
   ]
  },
  {
   "cell_type": "code",
   "execution_count": 12,
   "metadata": {},
   "outputs": [
    {
     "name": "stdout",
     "output_type": "stream",
     "text": [
      "Base model in Mb: 1.0368881225585938\n",
      "Dynamic Range Quantized model in Mb: 0.28081512451171875\n",
      "FP16 Quantized model in Mb: 0.5305137634277344\n",
      "Number of times larger 3.6924226369983972\n"
     ]
    }
   ],
   "source": [
    "# Saving the model.\n",
    "with open('omar_saved_model/base_model.tflite', 'wb') as f:\n",
    "  f.write(tflite_base_model)\n",
    "with open('omar_saved_model/dynamic_range_quant_model.tflite', 'wb') as f:\n",
    "  f.write(tflite_base_model_dynamic_range_quant)\n",
    "with open('omar_saved_model/fp16_quant_model.tflite', 'wb') as f:\n",
    "  f.write(tflite_fp16_model)\n",
    "\n",
    "# Get size of quantized model and base model\n",
    "tflite_base_model_size = os.path.getsize('omar_saved_model/base_model.tflite') \n",
    "tflite_base_model_dynamic_range_quant_size = os.path.getsize('omar_saved_model/dynamic_range_quant_model.tflite')\n",
    "tflite_fp16_model_size = os.path.getsize('omar_saved_model/fp16_quant_model.tflite')\n",
    "\n",
    "print(\"Base model in Mb:\", tflite_base_model_size / float(2**20))\n",
    "print(\"Dynamic Range Quantized model in Mb:\", tflite_base_model_dynamic_range_quant_size / float(2**20))\n",
    "print(\"FP16 Quantized model in Mb:\", tflite_fp16_model_size / float(2**20))\n",
    "print(\"Number of times larger\", tflite_base_model_size/tflite_base_model_dynamic_range_quant_size)"
   ]
  }
 ],
 "metadata": {
  "kernelspec": {
   "display_name": "Python 3.10.6 64-bit",
   "language": "python",
   "name": "python3"
  },
  "language_info": {
   "codemirror_mode": {
    "name": "ipython",
    "version": 3
   },
   "file_extension": ".py",
   "mimetype": "text/x-python",
   "name": "python",
   "nbconvert_exporter": "python",
   "pygments_lexer": "ipython3",
   "version": "3.10.6"
  },
  "orig_nbformat": 4,
  "vscode": {
   "interpreter": {
    "hash": "946bca45cd194ef20b20aa2df2b6857f6c4def631856f59c9b0da3a792eb3375"
   }
  }
 },
 "nbformat": 4,
 "nbformat_minor": 2
}
