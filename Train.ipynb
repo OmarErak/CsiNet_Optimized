{
 "cells": [
  {
   "cell_type": "code",
   "execution_count": 1,
   "metadata": {},
   "outputs": [],
   "source": [
    "import tensorflow as tf\n",
    "from keras.layers import Input, Dense, BatchNormalization, Reshape, Conv2D, add, LeakyReLU\n",
    "from keras.models import Model, model_from_json\n",
    "from keras.callbacks import TensorBoard, Callback\n",
    "import scipy.io as sio \n",
    "import numpy as np\n",
    "import math\n",
    "import time\n",
    "tf.compat.v1.reset_default_graph()"
   ]
  },
  {
   "cell_type": "code",
   "execution_count": 2,
   "metadata": {},
   "outputs": [],
   "source": [
    "envir = 'indoor' #'indoor' or 'outdoor'\n",
    "# image params\n",
    "img_height = 32\n",
    "img_width = 32\n",
    "img_channels = 2 \n",
    "img_total = img_height*img_width*img_channels\n",
    "# network params\n",
    "residual_num = 2\n",
    "encoded_dim = 64  #compress rate=1/4->dim.=512, compress rate=1/16->dim.=128, compress rate=1/32->dim.=64, compress rate=1/64->dim.=32"
   ]
  },
  {
   "cell_type": "code",
   "execution_count": 3,
   "metadata": {},
   "outputs": [],
   "source": [
    "# Bulid the autoencoder model of CsiNet\n",
    "def residual_network(x, residual_num, encoded_dim):\n",
    "    def add_common_layers(y):\n",
    "        y = BatchNormalization()(y)\n",
    "        y = LeakyReLU()(y)\n",
    "        return y\n",
    "    def residual_block_decoded(y):\n",
    "        shortcut = y\n",
    "        y = Conv2D(8, kernel_size=(3, 3), padding='same', data_format='channels_first')(y)\n",
    "        y = add_common_layers(y)\n",
    "        \n",
    "        y = Conv2D(16, kernel_size=(3, 3), padding='same', data_format='channels_first')(y)\n",
    "        y = add_common_layers(y)\n",
    "        \n",
    "        y = Conv2D(2, kernel_size=(3, 3), padding='same', data_format='channels_first')(y)\n",
    "        y = BatchNormalization()(y)\n",
    "\n",
    "        y = add([shortcut, y])\n",
    "        y = LeakyReLU()(y)\n",
    "\n",
    "        return y\n",
    "    \n",
    "    x = Conv2D(2, (3, 3), padding='same', data_format=\"channels_first\")(x)\n",
    "    x = add_common_layers(x)\n",
    "    \n",
    "    \n",
    "    x = Reshape((img_total,))(x)\n",
    "    encoded = Dense(encoded_dim, activation='linear')(x)\n",
    "    \n",
    "    x = Dense(img_total, activation='linear')(encoded)\n",
    "    x = Reshape((img_channels, img_height, img_width,))(x)\n",
    "    for i in range(residual_num):\n",
    "        x = residual_block_decoded(x)\n",
    "    \n",
    "    x = Conv2D(2, (3, 3), activation='sigmoid', padding='same', data_format=\"channels_first\")(x)\n",
    "\n",
    "    return x"
   ]
  },
  {
   "cell_type": "code",
   "execution_count": 4,
   "metadata": {},
   "outputs": [
    {
     "name": "stdout",
     "output_type": "stream",
     "text": [
      "Model: \"model\"\n",
      "__________________________________________________________________________________________________\n",
      " Layer (type)                   Output Shape         Param #     Connected to                     \n",
      "==================================================================================================\n",
      " input_1 (InputLayer)           [(None, 2, 32, 32)]  0           []                               \n",
      "                                                                                                  \n",
      " conv2d (Conv2D)                (None, 2, 32, 32)    38          ['input_1[0][0]']                \n",
      "                                                                                                  \n",
      " batch_normalization (BatchNorm  (None, 2, 32, 32)   128         ['conv2d[0][0]']                 \n",
      " alization)                                                                                       \n",
      "                                                                                                  \n",
      " leaky_re_lu (LeakyReLU)        (None, 2, 32, 32)    0           ['batch_normalization[0][0]']    \n",
      "                                                                                                  \n",
      " reshape (Reshape)              (None, 2048)         0           ['leaky_re_lu[0][0]']            \n",
      "                                                                                                  \n",
      " dense (Dense)                  (None, 512)          1049088     ['reshape[0][0]']                \n",
      "                                                                                                  \n",
      " dense_1 (Dense)                (None, 2048)         1050624     ['dense[0][0]']                  \n",
      "                                                                                                  \n",
      " reshape_1 (Reshape)            (None, 2, 32, 32)    0           ['dense_1[0][0]']                \n",
      "                                                                                                  \n",
      " conv2d_1 (Conv2D)              (None, 8, 32, 32)    152         ['reshape_1[0][0]']              \n",
      "                                                                                                  \n",
      " batch_normalization_1 (BatchNo  (None, 8, 32, 32)   128         ['conv2d_1[0][0]']               \n",
      " rmalization)                                                                                     \n",
      "                                                                                                  \n",
      " leaky_re_lu_1 (LeakyReLU)      (None, 8, 32, 32)    0           ['batch_normalization_1[0][0]']  \n",
      "                                                                                                  \n",
      " conv2d_2 (Conv2D)              (None, 16, 32, 32)   1168        ['leaky_re_lu_1[0][0]']          \n",
      "                                                                                                  \n",
      " batch_normalization_2 (BatchNo  (None, 16, 32, 32)  128         ['conv2d_2[0][0]']               \n",
      " rmalization)                                                                                     \n",
      "                                                                                                  \n",
      " leaky_re_lu_2 (LeakyReLU)      (None, 16, 32, 32)   0           ['batch_normalization_2[0][0]']  \n",
      "                                                                                                  \n",
      " conv2d_3 (Conv2D)              (None, 2, 32, 32)    290         ['leaky_re_lu_2[0][0]']          \n",
      "                                                                                                  \n",
      " batch_normalization_3 (BatchNo  (None, 2, 32, 32)   128         ['conv2d_3[0][0]']               \n",
      " rmalization)                                                                                     \n",
      "                                                                                                  \n",
      " add (Add)                      (None, 2, 32, 32)    0           ['reshape_1[0][0]',              \n",
      "                                                                  'batch_normalization_3[0][0]']  \n",
      "                                                                                                  \n",
      " leaky_re_lu_3 (LeakyReLU)      (None, 2, 32, 32)    0           ['add[0][0]']                    \n",
      "                                                                                                  \n",
      " conv2d_4 (Conv2D)              (None, 8, 32, 32)    152         ['leaky_re_lu_3[0][0]']          \n",
      "                                                                                                  \n",
      " batch_normalization_4 (BatchNo  (None, 8, 32, 32)   128         ['conv2d_4[0][0]']               \n",
      " rmalization)                                                                                     \n",
      "                                                                                                  \n",
      " leaky_re_lu_4 (LeakyReLU)      (None, 8, 32, 32)    0           ['batch_normalization_4[0][0]']  \n",
      "                                                                                                  \n",
      " conv2d_5 (Conv2D)              (None, 16, 32, 32)   1168        ['leaky_re_lu_4[0][0]']          \n",
      "                                                                                                  \n",
      " batch_normalization_5 (BatchNo  (None, 16, 32, 32)  128         ['conv2d_5[0][0]']               \n",
      " rmalization)                                                                                     \n",
      "                                                                                                  \n",
      " leaky_re_lu_5 (LeakyReLU)      (None, 16, 32, 32)   0           ['batch_normalization_5[0][0]']  \n",
      "                                                                                                  \n",
      " conv2d_6 (Conv2D)              (None, 2, 32, 32)    290         ['leaky_re_lu_5[0][0]']          \n",
      "                                                                                                  \n",
      " batch_normalization_6 (BatchNo  (None, 2, 32, 32)   128         ['conv2d_6[0][0]']               \n",
      " rmalization)                                                                                     \n",
      "                                                                                                  \n",
      " add_1 (Add)                    (None, 2, 32, 32)    0           ['leaky_re_lu_3[0][0]',          \n",
      "                                                                  'batch_normalization_6[0][0]']  \n",
      "                                                                                                  \n",
      " leaky_re_lu_6 (LeakyReLU)      (None, 2, 32, 32)    0           ['add_1[0][0]']                  \n",
      "                                                                                                  \n",
      " conv2d_7 (Conv2D)              (None, 2, 32, 32)    38          ['leaky_re_lu_6[0][0]']          \n",
      "                                                                                                  \n",
      "==================================================================================================\n",
      "Total params: 2,103,904\n",
      "Trainable params: 2,103,456\n",
      "Non-trainable params: 448\n",
      "__________________________________________________________________________________________________\n",
      "None\n"
     ]
    }
   ],
   "source": [
    "image_tensor = Input(shape=(img_channels, img_height, img_width))\n",
    "network_output = residual_network(image_tensor, residual_num, encoded_dim)\n",
    "autoencoder = Model(inputs=[image_tensor], outputs=[network_output])\n",
    "autoencoder.compile(optimizer='adam', loss='mse')\n",
    "print(autoencoder.summary())"
   ]
  },
  {
   "cell_type": "code",
   "execution_count": 5,
   "metadata": {},
   "outputs": [],
   "source": [
    "# Data loading\n",
    "if envir == 'indoor':\n",
    "    mat = sio.loadmat('data/DATA_Htrainin.mat') \n",
    "    x_train = mat['HT'] # array\n",
    "    mat = sio.loadmat('data/DATA_Hvalin.mat')\n",
    "    x_val = mat['HT'] # array\n",
    "    mat = sio.loadmat('data/DATA_Htestin.mat')\n",
    "    x_test = mat['HT'] # array\n",
    "\n",
    "elif envir == 'outdoor':\n",
    "    mat = sio.loadmat('data/DATA_Htrainout.mat') \n",
    "    x_train = mat['HT'] # array\n",
    "    mat = sio.loadmat('data/DATA_Hvalout.mat')\n",
    "    x_val = mat['HT'] # array\n",
    "    mat = sio.loadmat('data/DATA_Htestout.mat')\n",
    "    x_test = mat['HT'] # array\n",
    "\n",
    "x_train = x_train.astype('float32')\n",
    "x_val = x_val.astype('float32')\n",
    "x_test = x_test.astype('float32')\n",
    "x_train = np.reshape(x_train, (len(x_train), img_channels, img_height, img_width))  # adapt this if using `channels_first` image data format\n",
    "x_val = np.reshape(x_val, (len(x_val), img_channels, img_height, img_width))  # adapt this if using `channels_first` image data format\n",
    "x_test = np.reshape(x_test, (len(x_test), img_channels, img_height, img_width))  # adapt this if using `channels_first` image data format"
   ]
  },
  {
   "cell_type": "code",
   "execution_count": 6,
   "metadata": {},
   "outputs": [],
   "source": [
    "class LossHistory(Callback):\n",
    "    def on_train_begin(self, logs={}):\n",
    "        self.losses_train = []\n",
    "        self.losses_val = []\n",
    "\n",
    "    def on_batch_end(self, batch, logs={}):\n",
    "        self.losses_train.append(logs.get('loss'))\n",
    "        \n",
    "    def on_epoch_end(self, epoch, logs={}):\n",
    "        self.losses_val.append(logs.get('val_loss'))"
   ]
  },
  {
   "cell_type": "code",
   "execution_count": 7,
   "metadata": {},
   "outputs": [
    {
     "name": "stdout",
     "output_type": "stream",
     "text": [
      "Epoch 1/15\n",
      "  5/500 [..............................] - ETA: 17s - loss: 0.0212WARNING:tensorflow:Callback method `on_train_batch_end` is slow compared to the batch time (batch time: 0.0124s vs `on_train_batch_end` time: 0.0442s). Check your callbacks.\n",
      "500/500 [==============================] - 24s 37ms/step - loss: 7.4420e-04 - val_loss: 4.7539e-04\n",
      "Epoch 2/15\n",
      "500/500 [==============================] - 16s 33ms/step - loss: 4.0641e-04 - val_loss: 3.7477e-04\n",
      "Epoch 3/15\n",
      "500/500 [==============================] - 17s 34ms/step - loss: 3.1049e-04 - val_loss: 2.8996e-04\n",
      "Epoch 4/15\n",
      "500/500 [==============================] - 17s 34ms/step - loss: 2.2748e-04 - val_loss: 2.2983e-04\n",
      "Epoch 5/15\n",
      "500/500 [==============================] - 17s 34ms/step - loss: 1.4923e-04 - val_loss: 1.4997e-04\n",
      "Epoch 6/15\n",
      "500/500 [==============================] - 18s 35ms/step - loss: 1.0906e-04 - val_loss: 1.1056e-04\n",
      "Epoch 7/15\n",
      "500/500 [==============================] - 18s 36ms/step - loss: 8.9194e-05 - val_loss: 8.9398e-05\n",
      "Epoch 8/15\n",
      "500/500 [==============================] - 19s 37ms/step - loss: 7.6430e-05 - val_loss: 7.9387e-05\n",
      "Epoch 9/15\n",
      "500/500 [==============================] - 19s 38ms/step - loss: 6.6966e-05 - val_loss: 7.4211e-05\n",
      "Epoch 10/15\n",
      "500/500 [==============================] - 21s 42ms/step - loss: 5.9237e-05 - val_loss: 6.3369e-05\n",
      "Epoch 11/15\n",
      "500/500 [==============================] - 22s 43ms/step - loss: 5.2763e-05 - val_loss: 5.7753e-05\n",
      "Epoch 12/15\n",
      "500/500 [==============================] - 26s 53ms/step - loss: 4.7508e-05 - val_loss: 6.5625e-05\n",
      "Epoch 13/15\n",
      "500/500 [==============================] - 28s 57ms/step - loss: 4.3221e-05 - val_loss: 5.9001e-05\n",
      "Epoch 14/15\n",
      "500/500 [==============================] - 29s 58ms/step - loss: 3.9345e-05 - val_loss: 4.8475e-05\n",
      "Epoch 15/15\n",
      "500/500 [==============================] - 32s 64ms/step - loss: 3.6726e-05 - val_loss: 4.2458e-05\n"
     ]
    }
   ],
   "source": [
    "history = LossHistory()\n",
    "file = 'CsiNet_'+(envir)+'_dim'+str(encoded_dim)+time.strftime('_%m_%d')\n",
    "path = 'result/TensorBoard_%s' %file\n",
    "\n",
    "autoencoder.fit(x_train, x_train,\n",
    "                epochs=15,\n",
    "                batch_size=200,\n",
    "                shuffle=True,\n",
    "                validation_data=(x_val, x_val),\n",
    "                callbacks=[history,\n",
    "                           TensorBoard(log_dir = path)])\n",
    "\n",
    "filename = 'result/trainloss_%s.csv'%file\n",
    "loss_history = np.array(history.losses_train)\n",
    "np.savetxt(filename, loss_history, delimiter=\",\")\n",
    "\n",
    "filename = 'result/valloss_%s.csv'%file\n",
    "loss_history = np.array(history.losses_val)\n",
    "np.savetxt(filename, loss_history, delimiter=\",\")"
   ]
  },
  {
   "cell_type": "code",
   "execution_count": 8,
   "metadata": {},
   "outputs": [
    {
     "name": "stdout",
     "output_type": "stream",
     "text": [
      "625/625 [==============================] - 4s 6ms/step\n",
      "(20000, 2, 32, 32)\n",
      "It cost 0.000268 sec\n"
     ]
    }
   ],
   "source": [
    "#Testing data\n",
    "tStart = time.time()\n",
    "x_hat = autoencoder.predict(x_test)\n",
    "print(x_hat.shape)\n",
    "tEnd = time.time()\n",
    "print (\"It cost %f sec\" % ((tEnd - tStart)/x_test.shape[0]))"
   ]
  },
  {
   "cell_type": "code",
   "execution_count": 9,
   "metadata": {},
   "outputs": [
    {
     "name": "stderr",
     "output_type": "stream",
     "text": [
      "C:\\Users\\Omar\\AppData\\Local\\Temp\\ipykernel_2936\\4166756425.py:22: ComplexWarning: Casting complex values to real discards the imaginary part\n",
      "  n1 = n1.astype('float64')\n",
      "C:\\Users\\Omar\\AppData\\Local\\Temp\\ipykernel_2936\\4166756425.py:24: ComplexWarning: Casting complex values to real discards the imaginary part\n",
      "  n2 = n2.astype('float64')\n"
     ]
    },
    {
     "name": "stdout",
     "output_type": "stream",
     "text": [
      "In indoor environment\n",
      "When dimension is 512\n",
      "NMSE is  -10.262394831981618\n",
      "Correlation is  0.9519933909424321\n"
     ]
    }
   ],
   "source": [
    "# Calcaulating the NMSE and rho\n",
    "if envir == 'indoor':\n",
    "    mat = sio.loadmat('data/DATA_HtestFin_all.mat')\n",
    "    X_test = mat['HF_all']# array\n",
    "\n",
    "elif envir == 'outdoor':\n",
    "    mat = sio.loadmat('data/DATA_HtestFout_all.mat')\n",
    "    X_test = mat['HF_all']# array\n",
    "\n",
    "X_test = np.reshape(X_test, (len(X_test), img_height, 125))\n",
    "x_test_real = np.reshape(x_test[:, 0, :, :], (len(x_test), -1))\n",
    "x_test_imag = np.reshape(x_test[:, 1, :, :], (len(x_test), -1))\n",
    "x_test_C = x_test_real-0.5 + 1j*(x_test_imag-0.5)\n",
    "x_hat_real = np.reshape(x_hat[:, 0, :, :], (len(x_hat), -1))\n",
    "x_hat_imag = np.reshape(x_hat[:, 1, :, :], (len(x_hat), -1))\n",
    "x_hat_C = x_hat_real-0.5 + 1j*(x_hat_imag-0.5)\n",
    "x_hat_F = np.reshape(x_hat_C, (len(x_hat_C), img_height, img_width))\n",
    "X_hat = np.fft.fft(np.concatenate((x_hat_F, np.zeros((len(x_hat_C), img_height, 257-img_width))), axis=2), axis=2)\n",
    "X_hat = X_hat[:, :, 0:125]\n",
    "\n",
    "n1 = np.sqrt(np.sum(np.conj(X_test)*X_test, axis=1))\n",
    "n1 = n1.astype('float64')\n",
    "n2 = np.sqrt(np.sum(np.conj(X_hat)*X_hat, axis=1))\n",
    "n2 = n2.astype('float64')\n",
    "aa = abs(np.sum(np.conj(X_test)*X_hat, axis=1))\n",
    "rho = np.mean(aa/(n1*n2), axis=1)\n",
    "X_hat = np.reshape(X_hat, (len(X_hat), -1))\n",
    "X_test = np.reshape(X_test, (len(X_test), -1))\n",
    "power = np.sum(abs(x_test_C)**2, axis=1)\n",
    "power_d = np.sum(abs(X_hat)**2, axis=1)\n",
    "mse = np.sum(abs(x_test_C-x_hat_C)**2, axis=1)\n",
    "\n",
    "print(\"In \"+envir+\" environment\")\n",
    "print(\"When dimension is\", encoded_dim)\n",
    "print(\"NMSE is \", 10*math.log10(np.mean(mse/power)))\n",
    "print(\"Correlation is \", np.mean(rho))\n",
    "filename = \"result/decoded_%s.csv\"%file\n",
    "x_hat1 = np.reshape(x_hat, (len(x_hat), -1))\n",
    "np.savetxt(filename, x_hat1, delimiter=\",\")\n",
    "filename = \"result/rho_%s.csv\"%file\n",
    "np.savetxt(filename, rho, delimiter=\",\")\n"
   ]
  },
  {
   "cell_type": "code",
   "execution_count": 10,
   "metadata": {},
   "outputs": [
    {
     "data": {
      "image/png": "[encoded data removed]",
      "text/plain": [
       "<Figure size 2000x400 with 20 Axes>"
      ]
     },
     "metadata": {},
     "output_type": "display_data"
    }
   ],
   "source": [
    "import matplotlib.pyplot as plt\n",
    "'''abs'''\n",
    "n = 10\n",
    "plt.figure(figsize=(20, 4))\n",
    "for i in range(n):\n",
    "    # display origoutal\n",
    "    ax = plt.subplot(2, n, i + 1 )\n",
    "    x_testplo = abs(x_test[i, 0, :, :]-0.5 + 1j*(x_test[i, 1, :, :]-0.5))\n",
    "    plt.imshow(np.max(np.max(x_testplo))-x_testplo.T)\n",
    "    plt.gray()\n",
    "    ax.get_xaxis().set_visible(False)\n",
    "    ax.get_yaxis().set_visible(False)\n",
    "    ax.invert_yaxis()\n",
    "    # display reconstruction\n",
    "    ax = plt.subplot(2, n, i + 1 + n)\n",
    "    decoded_imgsplo = abs(x_hat[i, 0, :, :]-0.5 \n",
    "                          + 1j*(x_hat[i, 1, :, :]-0.5))\n",
    "    plt.imshow(np.max(np.max(decoded_imgsplo))-decoded_imgsplo.T)\n",
    "    plt.gray()\n",
    "    ax.get_xaxis().set_visible(False)\n",
    "    ax.get_yaxis().set_visible(False)\n",
    "    ax.invert_yaxis()\n",
    "plt.show()\n",
    "\n",
    "\n",
    "# save\n",
    "# serialize model to JSON\n",
    "model_json = autoencoder.to_json()\n",
    "outfile = \"result/model_%s.json\"%file\n",
    "with open(outfile, \"w\") as json_file:\n",
    "    json_file.write(model_json)\n",
    "# serialize weights to HDF5\n",
    "outfile = \"result/model_%s.h5\"%file\n",
    "autoencoder.save_weights(outfile)"
   ]
  }
 ],
 "metadata": {
  "kernelspec": {
   "display_name": "Python 3.10.6 64-bit",
   "language": "python",
   "name": "python3"
  },
  "language_info": {
   "codemirror_mode": {
    "name": "ipython",
    "version": 3
   },
   "file_extension": ".py",
   "mimetype": "text/x-python",
   "name": "python",
   "nbconvert_exporter": "python",
   "pygments_lexer": "ipython3",
   "version": "3.10.6"
  },
  "orig_nbformat": 4,
  "vscode": {
   "interpreter": {
    "hash": "946bca45cd194ef20b20aa2df2b6857f6c4def631856f59c9b0da3a792eb3375"
   }
  }
 },
 "nbformat": 4,
 "nbformat_minor": 2
}
